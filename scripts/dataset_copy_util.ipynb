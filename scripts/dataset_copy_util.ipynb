{
 "cells": [
  {
   "cell_type": "markdown",
   "metadata": {},
   "source": [
    "## Helper script to copy data files over to a new directory"
   ]
  },
  {
   "cell_type": "code",
   "execution_count": null,
   "metadata": {},
   "outputs": [],
   "source": [
    "%matplotlib inline\n",
    "\n",
    "import random\n",
    "import numpy as np\n",
    "import matplotlib.pyplot as plt\n",
    "import os\n",
    "import time\n",
    "import shutil\n",
    "import dense_correspondence_manipulation.utils.utils as utils\n",
    "utils.add_dense_correspondence_to_python_path()\n",
    "\n",
    "from dense_correspondence.dataset.spartan_dataset_masked import SpartanDataset\n"
   ]
  },
  {
   "cell_type": "code",
   "execution_count": null,
   "metadata": {},
   "outputs": [],
   "source": [
    "dataset_config_filename = os.path.join(utils.getDenseCorrespondenceSourceDir(), 'config', 'dense_correspondence', \n",
    "                               'dataset', 'composite', 'shoe_train_all_shoes.yaml')\n",
    "dataset_config = utils.getDictFromYamlFilename(dataset_config_filename)\n",
    "dataset = SpartanDataset(config=dataset_config)"
   ]
  },
  {
   "cell_type": "code",
   "execution_count": null,
   "metadata": {},
   "outputs": [],
   "source": [
    "target_directory = utils.convert_data_relative_path_to_absolute_path(\"logs_shoes\")\n",
    "logs_proto_dir = utils.convert_data_relative_path_to_absolute_path(\"logs_proto\")\n",
    "start_time = time.time()\n",
    "for scene_name in dataset.scene_generator():\n",
    "    print(scene_name)\n",
    "    relpath = os.path.relpath(src, logs_proto_dir)\n",
    "    src = dataset.get_full_path_for_scene(scene_name)\n",
    "    dst = os.path.join(target_directory, relpath)\n",
    "    print(\"relpath:\", relpath)\n",
    "    \n",
    "    print(\"src:\", src)\n",
    "    print(\"dst:\", dst)\n",
    "    \n",
    "    if os.path.exists(dst):\n",
    "        continue\n",
    "    else: \n",
    "        shutil.copytree(src, dst)\n",
    "\n",
    "elapsed = time.time() - start_time"
   ]
  }
 ],
 "metadata": {
  "kernelspec": {
   "display_name": "Python 3.9.6 64-bit",
   "language": "python",
   "name": "python3"
  },
  "language_info": {
   "codemirror_mode": {
    "name": "ipython",
    "version": 2
   },
   "file_extension": ".py",
   "mimetype": "text/x-python",
   "name": "python",
   "nbconvert_exporter": "python",
   "pygments_lexer": "ipython2",
   "version": "3.9.6"
  },
  "vscode": {
   "interpreter": {
    "hash": "31f2aee4e71d21fbe5cf8b01ff0e069b9275f58929596ceb00d14d90e3e16cd6"
   }
  }
 },
 "nbformat": 4,
 "nbformat_minor": 2
}
